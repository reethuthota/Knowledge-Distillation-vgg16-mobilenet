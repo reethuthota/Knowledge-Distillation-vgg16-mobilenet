{
 "cells": [
  {
   "cell_type": "code",
   "execution_count": 4,
   "metadata": {},
   "outputs": [
    {
     "name": "stdout",
     "output_type": "stream",
     "text": [
      "Collecting tensorflow-metal\n",
      "  Using cached tensorflow_metal-1.1.0-cp311-cp311-macosx_12_0_arm64.whl.metadata (1.2 kB)\n",
      "Requirement already satisfied: wheel~=0.35 in /Users/reethu/Applications/anaconda3/lib/python3.11/site-packages (from tensorflow-metal) (0.35.1)\n",
      "Requirement already satisfied: six>=1.15.0 in /Users/reethu/Applications/anaconda3/lib/python3.11/site-packages (from tensorflow-metal) (1.16.0)\n",
      "Using cached tensorflow_metal-1.1.0-cp311-cp311-macosx_12_0_arm64.whl (1.4 MB)\n",
      "Installing collected packages: tensorflow-metal\n",
      "Successfully installed tensorflow-metal-1.1.0\n",
      "Note: you may need to restart the kernel to use updated packages.\n"
     ]
    }
   ],
   "source": [
    "%pip install tensorflow-metal"
   ]
  },
  {
   "cell_type": "code",
   "execution_count": 1,
   "metadata": {},
   "outputs": [
    {
     "data": {
      "text/plain": [
       "[PhysicalDevice(name='/physical_device:GPU:0', device_type='GPU')]"
      ]
     },
     "execution_count": 1,
     "metadata": {},
     "output_type": "execute_result"
    }
   ],
   "source": [
    "import tensorflow as tf\n",
    "tf.config.list_physical_devices(\"GPU\")"
   ]
  },
  {
   "cell_type": "code",
   "execution_count": 2,
   "metadata": {},
   "outputs": [
    {
     "name": "stderr",
     "output_type": "stream",
     "text": [
      "2024-03-20 21:15:25.654111: I metal_plugin/src/device/metal_device.cc:1154] Metal device set to: Apple M1 Pro\n",
      "2024-03-20 21:15:25.654138: I metal_plugin/src/device/metal_device.cc:296] systemMemory: 16.00 GB\n",
      "2024-03-20 21:15:25.654142: I metal_plugin/src/device/metal_device.cc:313] maxCacheSize: 5.33 GB\n",
      "2024-03-20 21:15:25.654178: I tensorflow/core/common_runtime/pluggable_device/pluggable_device_factory.cc:306] Could not identify NUMA node of platform GPU ID 0, defaulting to 0. Your kernel may not have been built with NUMA support.\n",
      "2024-03-20 21:15:25.654196: I tensorflow/core/common_runtime/pluggable_device/pluggable_device_factory.cc:272] Created TensorFlow device (/job:localhost/replica:0/task:0/device:GPU:0 with 0 MB memory) -> physical PluggableDevice (device: 0, name: METAL, pci bus id: <undefined>)\n"
     ]
    },
    {
     "name": "stdout",
     "output_type": "stream",
     "text": [
      "\n",
      "Epoch 1: LearningRateScheduler setting learning rate to 3.2258064516129034e-05.\n",
      "Epoch 1/10\n"
     ]
    },
    {
     "name": "stderr",
     "output_type": "stream",
     "text": [
      "2024-03-20 21:15:26.540484: W tensorflow/tsl/platform/profile_utils/cpu_utils.cc:128] Failed to get CPU frequency: 0 Hz\n",
      "2024-03-20 21:15:27.087398: I tensorflow/core/grappler/optimizers/custom_graph_optimizer_registry.cc:114] Plugin optimizer for device_type GPU is enabled.\n"
     ]
    },
    {
     "name": "stdout",
     "output_type": "stream",
     "text": [
      "1563/1563 [==============================] - ETA: 0s - loss: 2.0657 - accuracy: 0.5969"
     ]
    },
    {
     "name": "stderr",
     "output_type": "stream",
     "text": [
      "2024-03-20 21:17:41.658619: I tensorflow/core/grappler/optimizers/custom_graph_optimizer_registry.cc:114] Plugin optimizer for device_type GPU is enabled.\n"
     ]
    },
    {
     "name": "stdout",
     "output_type": "stream",
     "text": [
      "1563/1563 [==============================] - 143s 91ms/step - loss: 2.0657 - accuracy: 0.5969 - val_loss: 1.0813 - val_accuracy: 0.7998 - lr: 3.2258e-05\n",
      "\n",
      "Epoch 2: LearningRateScheduler setting learning rate to 3.2258064516129034e-05.\n",
      "Epoch 2/10\n",
      "1563/1563 [==============================] - 141s 90ms/step - loss: 1.9045 - accuracy: 0.7739 - val_loss: 3.8308 - val_accuracy: 0.7330 - lr: 3.2258e-05\n",
      "\n",
      "Epoch 3: LearningRateScheduler setting learning rate to 3.2258064516129034e-05.\n",
      "Epoch 3/10\n",
      "1563/1563 [==============================] - 141s 90ms/step - loss: 1.5923 - accuracy: 0.8184 - val_loss: 1.6739 - val_accuracy: 0.8185 - lr: 3.2258e-05\n",
      "\n",
      "Epoch 4: LearningRateScheduler setting learning rate to 3.2258064516129034e-05.\n",
      "Epoch 4/10\n",
      "1563/1563 [==============================] - 141s 90ms/step - loss: 1.1416 - accuracy: 0.8577 - val_loss: 0.9429 - val_accuracy: 0.8623 - lr: 3.2258e-05\n",
      "\n",
      "Epoch 5: LearningRateScheduler setting learning rate to 3.2258064516129034e-05.\n",
      "Epoch 5/10\n",
      "1563/1563 [==============================] - 142s 91ms/step - loss: 0.7178 - accuracy: 0.8926 - val_loss: 0.9094 - val_accuracy: 0.8632 - lr: 3.2258e-05\n",
      "\n",
      "Epoch 6: LearningRateScheduler setting learning rate to 3.2258064516129034e-05.\n",
      "Epoch 6/10\n",
      "1563/1563 [==============================] - 140s 90ms/step - loss: 0.6085 - accuracy: 0.9023 - val_loss: 0.9574 - val_accuracy: 0.8667 - lr: 3.2258e-05\n",
      "\n",
      "Epoch 7: LearningRateScheduler setting learning rate to 3.2258064516129034e-05.\n",
      "Epoch 7/10\n",
      "1563/1563 [==============================] - 142s 91ms/step - loss: 0.5331 - accuracy: 0.9159 - val_loss: 0.5762 - val_accuracy: 0.9032 - lr: 3.2258e-05\n",
      "\n",
      "Epoch 8: LearningRateScheduler setting learning rate to 3.2258064516129034e-05.\n",
      "Epoch 8/10\n",
      "1563/1563 [==============================] - 141s 90ms/step - loss: 0.4568 - accuracy: 0.9274 - val_loss: 1.2106 - val_accuracy: 0.8702 - lr: 3.2258e-05\n",
      "\n",
      "Epoch 9: LearningRateScheduler setting learning rate to 3.2258064516129034e-05.\n",
      "Epoch 9/10\n",
      "1563/1563 [==============================] - 141s 90ms/step - loss: 0.3290 - accuracy: 0.9406 - val_loss: 0.9323 - val_accuracy: 0.8837 - lr: 3.2258e-05\n",
      "\n",
      "Epoch 10: LearningRateScheduler setting learning rate to 3.2258064516129034e-05.\n",
      "Epoch 10/10\n",
      "1563/1563 [==============================] - 142s 91ms/step - loss: 0.2184 - accuracy: 0.9539 - val_loss: 0.8108 - val_accuracy: 0.8858 - lr: 3.2258e-05\n"
     ]
    }
   ],
   "source": [
    "\n",
    "\"\"\"\n",
    "This script has the method\n",
    "preprocess_data(X, Y):\n",
    "\"\"\"\n",
    "import tensorflow.keras as K\n",
    "\n",
    "#import keras as K\n",
    "\n",
    "\n",
    "def preprocess_data(X, Y):\n",
    "        \"\"\" This method has the preprocess to train a model \"\"\"\n",
    "        X = X.astype('float32')\n",
    "        X_p = K.applications.vgg16.preprocess_input(X)\n",
    "        Y_p = K.utils.to_categorical(Y, 10)\n",
    "        return(X_p, Y_p)\n",
    "\n",
    "if __name__ == \"__main__\":\n",
    "    (Xt, Yt), (X, Y) = K.datasets.cifar10.load_data()\n",
    "    X_p, Y_p = preprocess_data(Xt, Yt)\n",
    "    Xv_p, Yv_p = preprocess_data(X, Y)\n",
    "    base_model = K.applications.vgg16.VGG16(include_top=False,\n",
    "                                            weights='imagenet',\n",
    "                                            pooling='avg'\n",
    "                                            )\n",
    "\n",
    "    model= K.Sequential()\n",
    "    model.add(K.layers.UpSampling2D())\n",
    "    model.add(base_model)\n",
    "    model.add(K.layers.Flatten())\n",
    "    model.add(K.layers.Dense(512, activation=('relu'))) \n",
    "    model.add(K.layers.Dropout(0.2))\n",
    "    model.add(K.layers.Dense(256, activation=('relu')))\n",
    "    model.add(K.layers.Dropout(0.2))\n",
    "    model.add(K.layers.Dense(10, activation=('softmax')))\n",
    "    callback = []\n",
    "    \n",
    "    def decay(epoch):\n",
    "        \"\"\" This method create the alpha\"\"\"\n",
    "        return 0.001 / (1 + 1 * 30)\n",
    "    callback += [K.callbacks.LearningRateScheduler(decay, verbose=1)]\n",
    "    callback += [K.callbacks.ModelCheckpoint('cifar10.h5',\n",
    "                                             save_best_only=True,\n",
    "                                             mode='min'\n",
    "                                             )]\n",
    "    model.compile(optimizer='adam', loss='categorical_crossentropy',\n",
    "                  metrics=['accuracy'])\n",
    "    model.fit(x=X_p, y=Y_p,\n",
    "              batch_size=32,\n",
    "              validation_data=(Xv_p, Yv_p),\n",
    "              epochs=10, shuffle=True,\n",
    "              callbacks=callback,\n",
    "              verbose=1\n",
    "              )"
   ]
  },
  {
   "cell_type": "code",
   "execution_count": 3,
   "metadata": {},
   "outputs": [],
   "source": [
    "from keras.models import load_model\n",
    "\n",
    "model = load_model('cifar10.h5')"
   ]
  },
  {
   "cell_type": "code",
   "execution_count": 4,
   "metadata": {},
   "outputs": [
    {
     "name": "stdout",
     "output_type": "stream",
     "text": [
      "  5/313 [..............................] - ETA: 5s "
     ]
    },
    {
     "name": "stderr",
     "output_type": "stream",
     "text": [
      "2024-03-20 21:40:15.690843: I tensorflow/core/grappler/optimizers/custom_graph_optimizer_registry.cc:114] Plugin optimizer for device_type GPU is enabled.\n"
     ]
    },
    {
     "name": "stdout",
     "output_type": "stream",
     "text": [
      "313/313 [==============================] - 7s 21ms/step\n",
      "Confusion Matrix:\n",
      "[[926  11  16   3   2   2   1   7  26   6]\n",
      " [  3 978   0   0   1   0   0   0   6  12]\n",
      " [ 18   0 906  12  20  21   6  15   1   1]\n",
      " [  7   1  31 731  23 158  15  24   8   2]\n",
      " [  4   2  35  12 891  11   9  33   3   0]\n",
      " [  2   0  15  42  12 898   5  24   1   1]\n",
      " [  6   1  29  21   8  18 910   3   2   2]\n",
      " [  5   1   7   2  15  16   0 953   1   0]\n",
      " [ 23   7   6   0   0   1   0   3 958   2]\n",
      " [ 13  81   0   4   1   1   0   2  17 881]]\n",
      "\n",
      "Classification Report:\n",
      "              precision    recall  f1-score   support\n",
      "\n",
      "           0       0.92      0.93      0.92      1000\n",
      "           1       0.90      0.98      0.94      1000\n",
      "           2       0.87      0.91      0.89      1000\n",
      "           3       0.88      0.73      0.80      1000\n",
      "           4       0.92      0.89      0.90      1000\n",
      "           5       0.80      0.90      0.84      1000\n",
      "           6       0.96      0.91      0.94      1000\n",
      "           7       0.90      0.95      0.92      1000\n",
      "           8       0.94      0.96      0.95      1000\n",
      "           9       0.97      0.88      0.92      1000\n",
      "\n",
      "    accuracy                           0.90     10000\n",
      "   macro avg       0.91      0.90      0.90     10000\n",
      "weighted avg       0.91      0.90      0.90     10000\n",
      "\n"
     ]
    }
   ],
   "source": [
    "import numpy as np\n",
    "from sklearn.metrics import classification_report, confusion_matrix\n",
    "\n",
    "predictions = model.predict(Xv_p)\n",
    "predicted_labels = np.argmax(predictions, axis=1)\n",
    "\n",
    "# Calculating metrics\n",
    "print(\"Confusion Matrix:\")\n",
    "conf_matrix = confusion_matrix(np.argmax(Yv_p, axis=1), predicted_labels)\n",
    "print(conf_matrix)\n",
    "\n",
    "print(\"\\nClassification Report:\")\n",
    "print(classification_report(np.argmax(Yv_p, axis=1), predicted_labels))\n"
   ]
  }
 ],
 "metadata": {
  "kernelspec": {
   "display_name": "base",
   "language": "python",
   "name": "python3"
  },
  "language_info": {
   "codemirror_mode": {
    "name": "ipython",
    "version": 3
   },
   "file_extension": ".py",
   "mimetype": "text/x-python",
   "name": "python",
   "nbconvert_exporter": "python",
   "pygments_lexer": "ipython3",
   "version": "3.11.0"
  }
 },
 "nbformat": 4,
 "nbformat_minor": 2
}
