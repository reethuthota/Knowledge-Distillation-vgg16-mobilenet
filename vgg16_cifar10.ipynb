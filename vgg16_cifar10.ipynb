{
 "cells": [
  {
   "cell_type": "code",
   "execution_count": 4,
   "metadata": {},
   "outputs": [
    {
     "name": "stdout",
     "output_type": "stream",
     "text": [
      "Collecting tensorflow-metal\n",
      "  Using cached tensorflow_metal-1.1.0-cp311-cp311-macosx_12_0_arm64.whl.metadata (1.2 kB)\n",
      "Requirement already satisfied: wheel~=0.35 in /Users/reethu/Applications/anaconda3/lib/python3.11/site-packages (from tensorflow-metal) (0.35.1)\n",
      "Requirement already satisfied: six>=1.15.0 in /Users/reethu/Applications/anaconda3/lib/python3.11/site-packages (from tensorflow-metal) (1.16.0)\n",
      "Using cached tensorflow_metal-1.1.0-cp311-cp311-macosx_12_0_arm64.whl (1.4 MB)\n",
      "Installing collected packages: tensorflow-metal\n",
      "Successfully installed tensorflow-metal-1.1.0\n",
      "Note: you may need to restart the kernel to use updated packages.\n"
     ]
    }
   ],
   "source": [
    "%pip install tensorflow-metal"
   ]
  },
  {
   "cell_type": "code",
   "execution_count": 1,
   "metadata": {},
   "outputs": [
    {
     "data": {
      "text/plain": [
       "[PhysicalDevice(name='/physical_device:GPU:0', device_type='GPU')]"
      ]
     },
     "execution_count": 1,
     "metadata": {},
     "output_type": "execute_result"
    }
   ],
   "source": [
    "import tensorflow as tf\n",
    "tf.config.list_physical_devices(\"GPU\")"
   ]
  },
  {
   "cell_type": "code",
   "execution_count": 5,
   "metadata": {},
   "outputs": [
    {
     "name": "stdout",
     "output_type": "stream",
     "text": [
      "\n",
      "Epoch 1: LearningRateScheduler setting learning rate to 0.0001.\n",
      "Epoch 1/10\n"
     ]
    },
    {
     "name": "stderr",
     "output_type": "stream",
     "text": [
      "2024-03-21 18:14:17.157213: I tensorflow/core/grappler/optimizers/custom_graph_optimizer_registry.cc:114] Plugin optimizer for device_type GPU is enabled.\n"
     ]
    },
    {
     "name": "stdout",
     "output_type": "stream",
     "text": [
      "782/782 [==============================] - ETA: 0s - loss: 1.4087 - accuracy: 0.6070"
     ]
    },
    {
     "name": "stderr",
     "output_type": "stream",
     "text": [
      "2024-03-21 18:16:24.627452: I tensorflow/core/grappler/optimizers/custom_graph_optimizer_registry.cc:114] Plugin optimizer for device_type GPU is enabled.\n"
     ]
    },
    {
     "name": "stdout",
     "output_type": "stream",
     "text": [
      "782/782 [==============================] - 135s 171ms/step - loss: 1.4087 - accuracy: 0.6070 - val_loss: 0.6359 - val_accuracy: 0.8192 - lr: 1.0000e-04\n",
      "\n",
      "Epoch 2: LearningRateScheduler setting learning rate to 0.0001.\n",
      "Epoch 2/10\n",
      "782/782 [==============================] - 133s 170ms/step - loss: 0.6171 - accuracy: 0.8302 - val_loss: 0.5947 - val_accuracy: 0.8194 - lr: 1.0000e-04\n",
      "\n",
      "Epoch 3: LearningRateScheduler setting learning rate to 0.0001.\n",
      "Epoch 3/10\n",
      "782/782 [==============================] - 133s 170ms/step - loss: 0.4959 - accuracy: 0.8647 - val_loss: 0.4656 - val_accuracy: 0.8631 - lr: 1.0000e-04\n",
      "\n",
      "Epoch 4: LearningRateScheduler setting learning rate to 0.0001.\n",
      "Epoch 4/10\n",
      "782/782 [==============================] - 134s 171ms/step - loss: 0.3411 - accuracy: 0.9036 - val_loss: 0.3940 - val_accuracy: 0.8898 - lr: 1.0000e-04\n",
      "\n",
      "Epoch 5: LearningRateScheduler setting learning rate to 0.0001.\n",
      "Epoch 5/10\n",
      "782/782 [==============================] - 132s 169ms/step - loss: 0.2304 - accuracy: 0.9314 - val_loss: 0.3488 - val_accuracy: 0.8959 - lr: 1.0000e-04\n",
      "\n",
      "Epoch 6: LearningRateScheduler setting learning rate to 0.0001.\n",
      "Epoch 6/10\n",
      "782/782 [==============================] - 136s 173ms/step - loss: 0.1586 - accuracy: 0.9511 - val_loss: 0.3710 - val_accuracy: 0.9045 - lr: 1.0000e-04\n",
      "\n",
      "Epoch 7: LearningRateScheduler setting learning rate to 0.0001.\n",
      "Epoch 7/10\n",
      "782/782 [==============================] - 135s 172ms/step - loss: 0.1359 - accuracy: 0.9588 - val_loss: 0.3756 - val_accuracy: 0.9079 - lr: 1.0000e-04\n",
      "\n",
      "Epoch 8: LearningRateScheduler setting learning rate to 0.0001.\n",
      "Epoch 8/10\n",
      "782/782 [==============================] - 135s 172ms/step - loss: 0.1069 - accuracy: 0.9684 - val_loss: 0.3725 - val_accuracy: 0.9114 - lr: 1.0000e-04\n",
      "\n",
      "Epoch 9: LearningRateScheduler setting learning rate to 0.0001.\n",
      "Epoch 9/10\n",
      "782/782 [==============================] - 134s 171ms/step - loss: 0.1234 - accuracy: 0.9644 - val_loss: 0.4706 - val_accuracy: 0.8917 - lr: 1.0000e-04\n",
      "\n",
      "Epoch 10: LearningRateScheduler setting learning rate to 0.0001.\n",
      "Epoch 10/10\n",
      "782/782 [==============================] - 130s 166ms/step - loss: 0.0835 - accuracy: 0.9747 - val_loss: 0.3661 - val_accuracy: 0.9109 - lr: 1.0000e-04\n"
     ]
    }
   ],
   "source": [
    "\n",
    "\"\"\"\n",
    "This script has the method\n",
    "preprocess_data(X, Y):\n",
    "\"\"\"\n",
    "import tensorflow.keras as K\n",
    "\n",
    "#import keras as K\n",
    "\n",
    "\n",
    "def preprocess_data(X, Y):\n",
    "        \"\"\" This method has the preprocess to train a model \"\"\"\n",
    "        X = X.astype('float32')\n",
    "        X_p = K.applications.vgg16.preprocess_input(X)\n",
    "        Y_p = K.utils.to_categorical(Y, 10)\n",
    "        return(X_p, Y_p)\n",
    "\n",
    "if __name__ == \"__main__\":\n",
    "    (Xt, Yt), (X, Y) = K.datasets.cifar10.load_data()\n",
    "    X_p, Y_p = preprocess_data(Xt, Yt)\n",
    "    Xv_p, Yv_p = preprocess_data(X, Y)\n",
    "    base_model = K.applications.vgg16.VGG16(include_top=False,\n",
    "                                            weights='imagenet',\n",
    "                                            pooling='avg'\n",
    "                                            )\n",
    "\n",
    "    model= K.Sequential()\n",
    "    model.add(K.layers.UpSampling2D())\n",
    "    model.add(base_model)\n",
    "    model.add(K.layers.Flatten())\n",
    "    model.add(K.layers.Dense(512, activation=('relu'))) \n",
    "    model.add(K.layers.Dropout(0.2))\n",
    "    model.add(K.layers.Dense(256, activation=('relu')))\n",
    "    model.add(K.layers.Dropout(0.2))\n",
    "    model.add(K.layers.Dense(10, activation=('softmax')))\n",
    "    callback = []\n",
    "    \n",
    "    def decay(epoch):\n",
    "        \"\"\" This method create the alpha (learning rate)\"\"\"\n",
    "        # return 0.001 / (1 + 1 * 30)\n",
    "        return 0.0001\n",
    "    callback += [K.callbacks.LearningRateScheduler(decay, verbose=1)]\n",
    "    callback += [K.callbacks.ModelCheckpoint('cifar10.h5',\n",
    "                                             save_best_only=True,\n",
    "                                             mode='min'\n",
    "                                             )]\n",
    "    model.compile(optimizer='adam', loss='categorical_crossentropy',\n",
    "                  metrics=['accuracy'])\n",
    "    model.fit(x=X_p, y=Y_p,\n",
    "              batch_size=64,\n",
    "              validation_data=(Xv_p, Yv_p),\n",
    "              epochs=10, shuffle=True,\n",
    "              callbacks=callback,\n",
    "              verbose=1\n",
    "              )"
   ]
  },
  {
   "cell_type": "code",
   "execution_count": 7,
   "metadata": {},
   "outputs": [],
   "source": [
    "from keras.models import load_model\n",
    "\n",
    "model = load_model('vgg16_cifar10.h5')"
   ]
  },
  {
   "cell_type": "code",
   "execution_count": 8,
   "metadata": {},
   "outputs": [
    {
     "name": "stdout",
     "output_type": "stream",
     "text": [
      "Model: \"sequential_2\"\n",
      "____________________________________________________________________________\n",
      " Layer (type)                Output Shape              Param #   Trainable  \n",
      "============================================================================\n",
      " up_sampling2d_2 (UpSampling  (None, 64, 64, 3)        0         Y          \n",
      " 2D)                                                                        \n",
      "                                                                            \n",
      " vgg16 (Functional)          (None, 512)               14714688  Y          \n",
      "                                                                            \n",
      " flatten_2 (Flatten)         (None, 512)               0         Y          \n",
      "                                                                            \n",
      " dense_6 (Dense)             (None, 512)               262656    Y          \n",
      "                                                                            \n",
      " dropout_4 (Dropout)         (None, 512)               0         Y          \n",
      "                                                                            \n",
      " dense_7 (Dense)             (None, 256)               131328    Y          \n",
      "                                                                            \n",
      " dropout_5 (Dropout)         (None, 256)               0         Y          \n",
      "                                                                            \n",
      " dense_8 (Dense)             (None, 10)                2570      Y          \n",
      "                                                                            \n",
      "============================================================================\n",
      "Total params: 15,111,242\n",
      "Trainable params: 15,111,242\n",
      "Non-trainable params: 0\n",
      "____________________________________________________________________________\n"
     ]
    }
   ],
   "source": [
    "model.summary(show_trainable=True)"
   ]
  },
  {
   "cell_type": "code",
   "execution_count": 9,
   "metadata": {},
   "outputs": [
    {
     "name": "stdout",
     "output_type": "stream",
     "text": [
      "  4/313 [..............................] - ETA: 5s "
     ]
    },
    {
     "name": "stderr",
     "output_type": "stream",
     "text": [
      "2024-03-21 18:37:18.110470: I tensorflow/core/grappler/optimizers/custom_graph_optimizer_registry.cc:114] Plugin optimizer for device_type GPU is enabled.\n"
     ]
    },
    {
     "name": "stdout",
     "output_type": "stream",
     "text": [
      "313/313 [==============================] - 7s 22ms/step\n",
      "Confusion Matrix:\n",
      "[[903   5   4  14   3   0   0   5  56  10]\n",
      " [  4 965   0   5   0   0   0   0   4  22]\n",
      " [ 41   0 827  56  25  23   5  14   7   2]\n",
      " [  6   2   9 898  10  50   5  13   6   1]\n",
      " [ 11   0  21  66 848  11   3  32   8   0]\n",
      " [  1   0   8 166  11 786   2  24   1   1]\n",
      " [  5   0  20  58   6   2 901   2   5   1]\n",
      " [  5   1   2  32   8   9   0 941   1   1]\n",
      " [ 10   7   3   5   0   1   1   1 959  13]\n",
      " [  4  47   1   6   1   0   0   2   8 931]]\n",
      "\n",
      "Classification Report:\n",
      "              precision    recall  f1-score   support\n",
      "\n",
      "           0       0.91      0.90      0.91      1000\n",
      "           1       0.94      0.96      0.95      1000\n",
      "           2       0.92      0.83      0.87      1000\n",
      "           3       0.69      0.90      0.78      1000\n",
      "           4       0.93      0.85      0.89      1000\n",
      "           5       0.89      0.79      0.84      1000\n",
      "           6       0.98      0.90      0.94      1000\n",
      "           7       0.91      0.94      0.93      1000\n",
      "           8       0.91      0.96      0.93      1000\n",
      "           9       0.95      0.93      0.94      1000\n",
      "\n",
      "    accuracy                           0.90     10000\n",
      "   macro avg       0.90      0.90      0.90     10000\n",
      "weighted avg       0.90      0.90      0.90     10000\n",
      "\n"
     ]
    }
   ],
   "source": [
    "import numpy as np\n",
    "from sklearn.metrics import classification_report, confusion_matrix\n",
    "\n",
    "predictions = model.predict(Xv_p)\n",
    "predicted_labels = np.argmax(predictions, axis=1)\n",
    "\n",
    "# Calculating metrics\n",
    "print(\"Confusion Matrix:\")\n",
    "conf_matrix = confusion_matrix(np.argmax(Yv_p, axis=1), predicted_labels)\n",
    "print(conf_matrix)\n",
    "\n",
    "print(\"\\nClassification Report:\")\n",
    "print(classification_report(np.argmax(Yv_p, axis=1), predicted_labels))\n"
   ]
  }
 ],
 "metadata": {
  "kernelspec": {
   "display_name": "base",
   "language": "python",
   "name": "python3"
  },
  "language_info": {
   "codemirror_mode": {
    "name": "ipython",
    "version": 3
   },
   "file_extension": ".py",
   "mimetype": "text/x-python",
   "name": "python",
   "nbconvert_exporter": "python",
   "pygments_lexer": "ipython3",
   "version": "3.11.0"
  }
 },
 "nbformat": 4,
 "nbformat_minor": 2
}
