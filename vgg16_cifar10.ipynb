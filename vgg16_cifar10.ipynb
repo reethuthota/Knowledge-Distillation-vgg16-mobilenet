{
 "cells": [
  {
   "cell_type": "code",
   "execution_count": 4,
   "metadata": {},
   "outputs": [
    {
     "name": "stdout",
     "output_type": "stream",
     "text": [
      "Collecting tensorflow-metal\n",
      "  Using cached tensorflow_metal-1.1.0-cp311-cp311-macosx_12_0_arm64.whl.metadata (1.2 kB)\n",
      "Requirement already satisfied: wheel~=0.35 in /Users/reethu/Applications/anaconda3/lib/python3.11/site-packages (from tensorflow-metal) (0.35.1)\n",
      "Requirement already satisfied: six>=1.15.0 in /Users/reethu/Applications/anaconda3/lib/python3.11/site-packages (from tensorflow-metal) (1.16.0)\n",
      "Using cached tensorflow_metal-1.1.0-cp311-cp311-macosx_12_0_arm64.whl (1.4 MB)\n",
      "Installing collected packages: tensorflow-metal\n",
      "Successfully installed tensorflow-metal-1.1.0\n",
      "Note: you may need to restart the kernel to use updated packages.\n"
     ]
    }
   ],
   "source": [
    "%pip install tensorflow-metal"
   ]
  },
  {
   "cell_type": "code",
   "execution_count": 3,
   "metadata": {},
   "outputs": [
    {
     "data": {
      "text/plain": [
       "[PhysicalDevice(name='/physical_device:GPU:0', device_type='GPU')]"
      ]
     },
     "execution_count": 3,
     "metadata": {},
     "output_type": "execute_result"
    }
   ],
   "source": [
    "import tensorflow as tf\n",
    "tf.config.list_physical_devices(\"GPU\")"
   ]
  },
  {
   "cell_type": "code",
   "execution_count": 3,
   "metadata": {},
   "outputs": [
    {
     "name": "stdout",
     "output_type": "stream",
     "text": [
      "\n",
      "Epoch 1: LearningRateScheduler setting learning rate to 3.2258064516129034e-05.\n",
      "Epoch 1/10\n"
     ]
    },
    {
     "name": "stderr",
     "output_type": "stream",
     "text": [
      "2024-03-19 19:21:20.214782: I tensorflow/core/grappler/optimizers/custom_graph_optimizer_registry.cc:114] Plugin optimizer for device_type GPU is enabled.\n"
     ]
    },
    {
     "name": "stdout",
     "output_type": "stream",
     "text": [
      "391/391 [==============================] - ETA: 0s - loss: 1.8882 - accuracy: 0.5075"
     ]
    },
    {
     "name": "stderr",
     "output_type": "stream",
     "text": [
      "2024-03-19 19:23:15.227798: I tensorflow/core/grappler/optimizers/custom_graph_optimizer_registry.cc:114] Plugin optimizer for device_type GPU is enabled.\n"
     ]
    },
    {
     "name": "stdout",
     "output_type": "stream",
     "text": [
      "391/391 [==============================] - 122s 309ms/step - loss: 1.8882 - accuracy: 0.5075 - val_loss: 0.8141 - val_accuracy: 0.7766 - lr: 3.2258e-05\n",
      "\n",
      "Epoch 2: LearningRateScheduler setting learning rate to 3.2258064516129034e-05.\n",
      "Epoch 2/10\n",
      "391/391 [==============================] - 123s 315ms/step - loss: 0.8413 - accuracy: 0.7859 - val_loss: 0.5809 - val_accuracy: 0.8505 - lr: 3.2258e-05\n",
      "\n",
      "Epoch 3: LearningRateScheduler setting learning rate to 3.2258064516129034e-05.\n",
      "Epoch 3/10\n",
      "391/391 [==============================] - 123s 315ms/step - loss: 0.6416 - accuracy: 0.8437 - val_loss: 0.4949 - val_accuracy: 0.8821 - lr: 3.2258e-05\n",
      "\n",
      "Epoch 4: LearningRateScheduler setting learning rate to 3.2258064516129034e-05.\n",
      "Epoch 4/10\n",
      "391/391 [==============================] - 123s 315ms/step - loss: 0.7113 - accuracy: 0.8660 - val_loss: 0.9719 - val_accuracy: 0.8277 - lr: 3.2258e-05\n",
      "\n",
      "Epoch 5: LearningRateScheduler setting learning rate to 3.2258064516129034e-05.\n",
      "Epoch 5/10\n",
      "391/391 [==============================] - 123s 315ms/step - loss: 0.7114 - accuracy: 0.8838 - val_loss: 0.7148 - val_accuracy: 0.8946 - lr: 3.2258e-05\n",
      "\n",
      "Epoch 6: LearningRateScheduler setting learning rate to 3.2258064516129034e-05.\n",
      "Epoch 6/10\n",
      "391/391 [==============================] - 123s 316ms/step - loss: 0.7408 - accuracy: 0.8973 - val_loss: 0.9177 - val_accuracy: 0.8933 - lr: 3.2258e-05\n",
      "\n",
      "Epoch 7: LearningRateScheduler setting learning rate to 3.2258064516129034e-05.\n",
      "Epoch 7/10\n",
      "391/391 [==============================] - 124s 316ms/step - loss: 0.6410 - accuracy: 0.9128 - val_loss: 0.9803 - val_accuracy: 0.9020 - lr: 3.2258e-05\n",
      "\n",
      "Epoch 8: LearningRateScheduler setting learning rate to 3.2258064516129034e-05.\n",
      "Epoch 8/10\n",
      "391/391 [==============================] - 124s 316ms/step - loss: 0.8233 - accuracy: 0.9132 - val_loss: 0.8602 - val_accuracy: 0.9074 - lr: 3.2258e-05\n",
      "\n",
      "Epoch 9: LearningRateScheduler setting learning rate to 3.2258064516129034e-05.\n",
      "Epoch 9/10\n",
      "391/391 [==============================] - 122s 312ms/step - loss: 0.5967 - accuracy: 0.9367 - val_loss: 1.3968 - val_accuracy: 0.9054 - lr: 3.2258e-05\n",
      "\n",
      "Epoch 10: LearningRateScheduler setting learning rate to 3.2258064516129034e-05.\n",
      "Epoch 10/10\n",
      "391/391 [==============================] - 120s 307ms/step - loss: 0.6343 - accuracy: 0.9379 - val_loss: 1.1752 - val_accuracy: 0.9178 - lr: 3.2258e-05\n"
     ]
    }
   ],
   "source": [
    "\n",
    "\"\"\"\n",
    "This script has the method\n",
    "preprocess_data(X, Y):\n",
    "\"\"\"\n",
    "import tensorflow.keras as K\n",
    "\n",
    "#import keras as K\n",
    "\n",
    "\n",
    "def preprocess_data(X, Y):\n",
    "        \"\"\" This method has the preprocess to train a model \"\"\"\n",
    "        X = X.astype('float32')\n",
    "        X_p = K.applications.vgg16.preprocess_input(X)\n",
    "        Y_p = K.utils.to_categorical(Y, 10)\n",
    "        return(X_p, Y_p)\n",
    "\n",
    "if __name__ == \"__main__\":\n",
    "    (Xt, Yt), (X, Y) = K.datasets.cifar10.load_data()\n",
    "    X_p, Y_p = preprocess_data(Xt, Yt)\n",
    "    Xv_p, Yv_p = preprocess_data(X, Y)\n",
    "    base_model = K.applications.vgg16.VGG16(include_top=False,\n",
    "                                            weights='imagenet',\n",
    "                                            pooling='avg'\n",
    "                                            )\n",
    "\n",
    "    model= K.Sequential()\n",
    "    model.add(K.layers.UpSampling2D())\n",
    "    model.add(base_model)\n",
    "    model.add(K.layers.Flatten())\n",
    "    model.add(K.layers.Dense(512, activation=('relu'))) \n",
    "    model.add(K.layers.Dropout(0.2))\n",
    "    model.add(K.layers.Dense(256, activation=('relu')))\n",
    "    model.add(K.layers.Dropout(0.2))\n",
    "    model.add(K.layers.Dense(10, activation=('softmax')))\n",
    "    callback = []\n",
    "    \n",
    "    def decay(epoch):\n",
    "        \"\"\" This method create the alpha\"\"\"\n",
    "        return 0.001 / (1 + 1 * 30)\n",
    "    callback += [K.callbacks.LearningRateScheduler(decay, verbose=1)]\n",
    "    callback += [K.callbacks.ModelCheckpoint('cifar10.h5',\n",
    "                                             save_best_only=True,\n",
    "                                             mode='min'\n",
    "                                             )]\n",
    "    model.compile(optimizer='adam', loss='categorical_crossentropy',\n",
    "                  metrics=['accuracy'])\n",
    "    model.fit(x=X_p, y=Y_p,\n",
    "              batch_size=128,\n",
    "              validation_data=(Xv_p, Yv_p),\n",
    "              epochs=10, shuffle=True,\n",
    "              callbacks=callback,\n",
    "              verbose=1\n",
    "              )"
   ]
  },
  {
   "cell_type": "code",
   "execution_count": 4,
   "metadata": {},
   "outputs": [],
   "source": [
    "from keras.models import load_model\n",
    "\n",
    "model = load_model('cifar10.h5')"
   ]
  },
  {
   "cell_type": "code",
   "execution_count": 5,
   "metadata": {},
   "outputs": [
    {
     "name": "stdout",
     "output_type": "stream",
     "text": [
      "  4/313 [..............................] - ETA: 7s "
     ]
    },
    {
     "name": "stderr",
     "output_type": "stream",
     "text": [
      "2024-03-19 19:41:48.044096: I tensorflow/core/grappler/optimizers/custom_graph_optimizer_registry.cc:114] Plugin optimizer for device_type GPU is enabled.\n"
     ]
    },
    {
     "name": "stdout",
     "output_type": "stream",
     "text": [
      "313/313 [==============================] - 7s 22ms/step\n",
      "Confusion Matrix:\n",
      "[[911   2  13   3   4   0   6  16  24  21]\n",
      " [ 10 905   0   0   0   0   3   1  10  71]\n",
      " [ 37   0 844  21  32  23  23  15   5   0]\n",
      " [  7   3  30 711  25 162  31  20   5   6]\n",
      " [  8   1  24  15 867  23  29  30   3   0]\n",
      " [  1   0   9  88  18 848   7  27   0   2]\n",
      " [  6   0  16  32   6  10 921   6   1   2]\n",
      " [  6   0   7   8  25  37   1 912   2   2]\n",
      " [ 27   3   5   5   0   1   3   2 947   7]\n",
      " [ 12  13   0   2   0   2   0   2  14 955]]\n",
      "\n",
      "Classification Report:\n",
      "              precision    recall  f1-score   support\n",
      "\n",
      "           0       0.89      0.91      0.90      1000\n",
      "           1       0.98      0.91      0.94      1000\n",
      "           2       0.89      0.84      0.87      1000\n",
      "           3       0.80      0.71      0.75      1000\n",
      "           4       0.89      0.87      0.88      1000\n",
      "           5       0.77      0.85      0.81      1000\n",
      "           6       0.90      0.92      0.91      1000\n",
      "           7       0.88      0.91      0.90      1000\n",
      "           8       0.94      0.95      0.94      1000\n",
      "           9       0.90      0.95      0.92      1000\n",
      "\n",
      "    accuracy                           0.88     10000\n",
      "   macro avg       0.88      0.88      0.88     10000\n",
      "weighted avg       0.88      0.88      0.88     10000\n",
      "\n"
     ]
    }
   ],
   "source": [
    "import numpy as np\n",
    "from sklearn.metrics import classification_report, confusion_matrix\n",
    "\n",
    "predictions = model.predict(Xv_p)\n",
    "predicted_labels = np.argmax(predictions, axis=1)\n",
    "\n",
    "# Calculating metrics\n",
    "print(\"Confusion Matrix:\")\n",
    "conf_matrix = confusion_matrix(np.argmax(Yv_p, axis=1), predicted_labels)\n",
    "print(conf_matrix)\n",
    "\n",
    "print(\"\\nClassification Report:\")\n",
    "print(classification_report(np.argmax(Yv_p, axis=1), predicted_labels))\n"
   ]
  }
 ],
 "metadata": {
  "kernelspec": {
   "display_name": "base",
   "language": "python",
   "name": "python3"
  },
  "language_info": {
   "codemirror_mode": {
    "name": "ipython",
    "version": 3
   },
   "file_extension": ".py",
   "mimetype": "text/x-python",
   "name": "python",
   "nbconvert_exporter": "python",
   "pygments_lexer": "ipython3",
   "version": "3.11.0"
  }
 },
 "nbformat": 4,
 "nbformat_minor": 2
}
