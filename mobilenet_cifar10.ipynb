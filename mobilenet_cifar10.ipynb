{
 "cells": [
  {
   "cell_type": "code",
   "execution_count": 1,
   "metadata": {},
   "outputs": [
    {
     "data": {
      "text/plain": [
       "[PhysicalDevice(name='/physical_device:GPU:0', device_type='GPU')]"
      ]
     },
     "execution_count": 1,
     "metadata": {},
     "output_type": "execute_result"
    }
   ],
   "source": [
    "import tensorflow as tf\n",
    "tf.config.list_physical_devices(\"GPU\")"
   ]
  },
  {
   "cell_type": "code",
   "execution_count": 1,
   "metadata": {},
   "outputs": [],
   "source": [
    "import tensorflow.keras as keras"
   ]
  },
  {
   "cell_type": "code",
   "execution_count": 2,
   "metadata": {},
   "outputs": [],
   "source": [
    "from keras.applications.mobilenet import MobileNet"
   ]
  },
  {
   "cell_type": "code",
   "execution_count": 3,
   "metadata": {},
   "outputs": [
    {
     "name": "stdout",
     "output_type": "stream",
     "text": [
      "Size of the train images: (50000, 32, 32, 3)\n",
      "Size of the test images: (10000, 32, 32, 3)\n"
     ]
    }
   ],
   "source": [
    "# Loading the Dataset and getting size of it\n",
    "(x_train, y_train), (x_test, y_test) = keras.datasets.cifar10.load_data()\n",
    "\n",
    "print(\"Size of the train images:\", x_train.shape)\n",
    "print(\"Size of the test images:\", x_test.shape)"
   ]
  },
  {
   "cell_type": "code",
   "execution_count": 4,
   "metadata": {},
   "outputs": [],
   "source": [
    "def preprocess_data(X, Y):\n",
    "        \"\"\" This method has the preprocess to train a model \"\"\"\n",
    "        X = X.astype('float32')\n",
    "        X_p = keras.applications.mobilenet.preprocess_input(X)\n",
    "        Y_p = keras.utils.to_categorical(Y, 10)\n",
    "        return(X_p, Y_p)\n"
   ]
  },
  {
   "cell_type": "code",
   "execution_count": 5,
   "metadata": {},
   "outputs": [],
   "source": [
    "x_train, y_train = preprocess_data(x_train, y_train)\n",
    "x_test, y_test = preprocess_data(x_test, y_test)"
   ]
  },
  {
   "cell_type": "markdown",
   "metadata": {},
   "source": [
    "if __name__ == \"__main__\":\n",
    "    \n",
    "    base_model = keras.applications.mobilenet.MobileNet(weights='imagenet',include_top=False)\n",
    "    \n",
    "    image_size = (224, 224)\n",
    "    \n",
    "    model= keras.Sequential()\n",
    "    keras.layers.Resizing(image_size[0], image_size[1], interpolation=\"bilinear\", input_shape=x_train.shape[1:]),\n",
    "    model.add(base_model) \n",
    "    model.add(keras.layers.GlobalAveragePooling2D())\n",
    "    model.add(keras.layers.Dense(1024,activation=('relu')))\n",
    "    model.add(keras.layers.Dense(512,activation=('relu')))\n",
    "    model.add(keras.layers.Dense(256,activation=('relu')))\n",
    "    model.add(keras.layers.Dropout(0.5))\n",
    "    model.add(keras.layers.Dense(128,activation=('relu')))\n",
    "    model.add(keras.layers.Dropout(0.5))\n",
    "    model.add(keras.layers.Dense(10,activation=('softmax')))\n",
    "    \n",
    "\n",
    "    callback = []\n",
    "    \n",
    "    def decay(epoch):\n",
    "        \"\"\" This method create the alpha\"\"\"\n",
    "        return 0.001 / (1 + 1 * 30)\n",
    "    \n",
    "    callback += [keras.callbacks.LearningRateScheduler(decay, verbose=1)]\n",
    "    callback += [keras.callbacks.ModelCheckpoint('mobilenet_cifar10_v2.h5',\n",
    "                                             save_best_only=True,\n",
    "                                             mode='min'\n",
    "                                             )]\n",
    "    \n",
    "    model.compile(optimizer='adam', loss='categorical_crossentropy', metrics=['accuracy'])\n",
    "    model.fit(x=x_train, y=y_train,\n",
    "               batch_size=128,\n",
    "               validation_data=(x_test, y_test),\n",
    "               epochs=10, shuffle=True,\n",
    "               callbacks=callback,\n",
    "               verbose=1\n",
    "               )"
   ]
  },
  {
   "cell_type": "code",
   "execution_count": 9,
   "metadata": {},
   "outputs": [
    {
     "name": "stdout",
     "output_type": "stream",
     "text": [
      "WARNING:tensorflow:`input_shape` is undefined or non-square, or `rows` is not in [128, 160, 192, 224]. Weights for input shape (224, 224) will be loaded as the default.\n",
      "\n",
      "Epoch 1: LearningRateScheduler setting learning rate to 3.2258064516129034e-05.\n",
      "Epoch 1/10\n"
     ]
    },
    {
     "name": "stderr",
     "output_type": "stream",
     "text": [
      "2024-03-20 22:02:28.435719: I tensorflow/core/grappler/optimizers/custom_graph_optimizer_registry.cc:114] Plugin optimizer for device_type GPU is enabled.\n"
     ]
    },
    {
     "name": "stdout",
     "output_type": "stream",
     "text": [
      "1563/1563 [==============================] - ETA: 0s - loss: 2.6189 - accuracy: 0.4809"
     ]
    },
    {
     "name": "stderr",
     "output_type": "stream",
     "text": [
      "2024-03-20 22:07:49.951173: I tensorflow/core/grappler/optimizers/custom_graph_optimizer_registry.cc:114] Plugin optimizer for device_type GPU is enabled.\n"
     ]
    },
    {
     "name": "stdout",
     "output_type": "stream",
     "text": [
      "1563/1563 [==============================] - 338s 215ms/step - loss: 2.6189 - accuracy: 0.4809 - val_loss: 0.9778 - val_accuracy: 0.7616 - lr: 3.2258e-05\n",
      "\n",
      "Epoch 2: LearningRateScheduler setting learning rate to 3.2258064516129034e-05.\n",
      "Epoch 2/10\n",
      "1563/1563 [==============================] - 330s 211ms/step - loss: 1.0271 - accuracy: 0.7785 - val_loss: 0.7296 - val_accuracy: 0.8310 - lr: 3.2258e-05\n",
      "\n",
      "Epoch 3: LearningRateScheduler setting learning rate to 3.2258064516129034e-05.\n",
      "Epoch 3/10\n",
      "1563/1563 [==============================] - 332s 212ms/step - loss: 0.6905 - accuracy: 0.8487 - val_loss: 0.8903 - val_accuracy: 0.8150 - lr: 3.2258e-05\n",
      "\n",
      "Epoch 4: LearningRateScheduler setting learning rate to 3.2258064516129034e-05.\n",
      "Epoch 4/10\n",
      "1563/1563 [==============================] - 335s 214ms/step - loss: 0.5399 - accuracy: 0.8825 - val_loss: 0.7558 - val_accuracy: 0.8485 - lr: 3.2258e-05\n",
      "\n",
      "Epoch 5: LearningRateScheduler setting learning rate to 3.2258064516129034e-05.\n",
      "Epoch 5/10\n",
      "1563/1563 [==============================] - 333s 213ms/step - loss: 0.4352 - accuracy: 0.9057 - val_loss: 0.7416 - val_accuracy: 0.8640 - lr: 3.2258e-05\n",
      "\n",
      "Epoch 6: LearningRateScheduler setting learning rate to 3.2258064516129034e-05.\n",
      "Epoch 6/10\n",
      "1563/1563 [==============================] - 332s 212ms/step - loss: 0.3503 - accuracy: 0.9249 - val_loss: 0.5715 - val_accuracy: 0.8973 - lr: 3.2258e-05\n",
      "\n",
      "Epoch 7: LearningRateScheduler setting learning rate to 3.2258064516129034e-05.\n",
      "Epoch 7/10\n",
      "1563/1563 [==============================] - 330s 211ms/step - loss: 0.2884 - accuracy: 0.9369 - val_loss: 0.6317 - val_accuracy: 0.8931 - lr: 3.2258e-05\n",
      "\n",
      "Epoch 8: LearningRateScheduler setting learning rate to 3.2258064516129034e-05.\n",
      "Epoch 8/10\n",
      "1563/1563 [==============================] - 371s 237ms/step - loss: 0.2363 - accuracy: 0.9481 - val_loss: 0.7481 - val_accuracy: 0.8905 - lr: 3.2258e-05\n",
      "\n",
      "Epoch 9: LearningRateScheduler setting learning rate to 3.2258064516129034e-05.\n",
      "Epoch 9/10\n",
      "1563/1563 [==============================] - 1309s 838ms/step - loss: 0.1962 - accuracy: 0.9570 - val_loss: 0.7329 - val_accuracy: 0.9006 - lr: 3.2258e-05\n",
      "\n",
      "Epoch 10: LearningRateScheduler setting learning rate to 3.2258064516129034e-05.\n",
      "Epoch 10/10\n",
      "1563/1563 [==============================] - 2932s 2s/step - loss: 0.1832 - accuracy: 0.9627 - val_loss: 0.6857 - val_accuracy: 0.9061 - lr: 3.2258e-05\n"
     ]
    }
   ],
   "source": [
    "if __name__ == \"__main__\":\n",
    "    \n",
    "    base_model = keras.applications.mobilenet.MobileNet(weights='imagenet',include_top=False)\n",
    "    \n",
    "    image_size = (224, 224)\n",
    "    \n",
    "    model = keras.Sequential()\n",
    "    model.add(keras.layers.Resizing(image_size[0], image_size[1], interpolation=\"bilinear\", input_shape=x_train.shape[1:]))\n",
    "    model.add(base_model)\n",
    "    model.add(keras.layers.GlobalAveragePooling2D())\n",
    "    #model.add(keras.layers.Dense(1024, activation='relu'))\n",
    "    model.add(keras.layers.Dense(512, activation='relu'))\n",
    "    model.add(keras.layers.Dense(256, activation='relu'))\n",
    "    model.add(keras.layers.Dropout(0.5))\n",
    "    model.add(keras.layers.Dense(128, activation='relu'))\n",
    "    model.add(keras.layers.Dropout(0.5))\n",
    "    model.add(keras.layers.Dense(10, activation='softmax'))\n",
    "    \n",
    "    callback = []\n",
    "    \n",
    "    def decay(epoch):\n",
    "        \"\"\" This method create the alpha\"\"\"\n",
    "        return 0.001 / (1 + 1 * 30)\n",
    "    \n",
    "    callback += [keras.callbacks.LearningRateScheduler(decay, verbose=1)]\n",
    "    callback += [keras.callbacks.ModelCheckpoint('mobilenet_cifar10.h5',\n",
    "                                             save_best_only=True,\n",
    "                                             mode='min'\n",
    "                                             )]\n",
    "    \n",
    "    model.compile(optimizer='adam', loss='categorical_crossentropy', metrics=['accuracy'])\n",
    "    model.fit(x=x_train, y=y_train,\n",
    "               batch_size=32,\n",
    "               validation_data=(x_test, y_test),\n",
    "               epochs=10, shuffle=True,\n",
    "               callbacks=callback,\n",
    "               verbose=1\n",
    "               )"
   ]
  },
  {
   "cell_type": "code",
   "execution_count": 10,
   "metadata": {},
   "outputs": [],
   "source": [
    "from keras.models import load_model\n",
    "\n",
    "model = load_model('mobilenet_cifar10.h5')"
   ]
  },
  {
   "cell_type": "code",
   "execution_count": 11,
   "metadata": {},
   "outputs": [
    {
     "name": "stderr",
     "output_type": "stream",
     "text": [
      "2024-03-21 00:03:38.689907: I tensorflow/core/grappler/optimizers/custom_graph_optimizer_registry.cc:114] Plugin optimizer for device_type GPU is enabled.\n"
     ]
    },
    {
     "name": "stdout",
     "output_type": "stream",
     "text": [
      "313/313 [==============================] - 15s 47ms/step\n",
      "Confusion Matrix:\n",
      "[[931   0   6   3   2   6   5   4  28  15]\n",
      " [  3 933   0   0   0   1   1   0  16  46]\n",
      " [ 26   0 810  22  27  70  29   6  10   0]\n",
      " [  3   0   3 612   5 343  23   2   7   2]\n",
      " [  2   0   4   1 913  57  10  12   1   0]\n",
      " [  0   0   2   6   5 976   4   6   1   0]\n",
      " [  3   0   2   3   1  20 968   0   3   0]\n",
      " [  8   0   3   2  17  76   3 890   0   1]\n",
      " [ 10   3   2   2   1   5   1   0 967   9]\n",
      " [  3  12   0   1   0   3   0   0   8 973]]\n",
      "\n",
      "Classification Report:\n",
      "              precision    recall  f1-score   support\n",
      "\n",
      "           0       0.94      0.93      0.94      1000\n",
      "           1       0.98      0.93      0.96      1000\n",
      "           2       0.97      0.81      0.88      1000\n",
      "           3       0.94      0.61      0.74      1000\n",
      "           4       0.94      0.91      0.93      1000\n",
      "           5       0.63      0.98      0.76      1000\n",
      "           6       0.93      0.97      0.95      1000\n",
      "           7       0.97      0.89      0.93      1000\n",
      "           8       0.93      0.97      0.95      1000\n",
      "           9       0.93      0.97      0.95      1000\n",
      "\n",
      "    accuracy                           0.90     10000\n",
      "   macro avg       0.92      0.90      0.90     10000\n",
      "weighted avg       0.92      0.90      0.90     10000\n",
      "\n"
     ]
    }
   ],
   "source": [
    "import numpy as np\n",
    "from sklearn.metrics import classification_report, confusion_matrix\n",
    "\n",
    "predictions = model.predict(x_test)\n",
    "predicted_labels = np.argmax(predictions, axis=1)\n",
    "\n",
    "# Calculating metrics\n",
    "print(\"Confusion Matrix:\")\n",
    "conf_matrix = confusion_matrix(np.argmax(y_test, axis=1), predicted_labels)\n",
    "print(conf_matrix)\n",
    "\n",
    "print(\"\\nClassification Report:\")\n",
    "print(classification_report(np.argmax(y_test, axis=1), predicted_labels))\n"
   ]
  }
 ],
 "metadata": {
  "kernelspec": {
   "display_name": "base",
   "language": "python",
   "name": "python3"
  },
  "language_info": {
   "codemirror_mode": {
    "name": "ipython",
    "version": 3
   },
   "file_extension": ".py",
   "mimetype": "text/x-python",
   "name": "python",
   "nbconvert_exporter": "python",
   "pygments_lexer": "ipython3",
   "version": "3.11.0"
  }
 },
 "nbformat": 4,
 "nbformat_minor": 2
}
