{
 "cells": [
  {
   "cell_type": "code",
   "execution_count": 1,
   "metadata": {},
   "outputs": [
    {
     "data": {
      "text/plain": [
       "[PhysicalDevice(name='/physical_device:GPU:0', device_type='GPU')]"
      ]
     },
     "execution_count": 1,
     "metadata": {},
     "output_type": "execute_result"
    }
   ],
   "source": [
    "import tensorflow as tf\n",
    "tf.config.list_physical_devices(\"GPU\")"
   ]
  },
  {
   "cell_type": "code",
   "execution_count": 2,
   "metadata": {},
   "outputs": [],
   "source": [
    "import tensorflow.keras as keras"
   ]
  },
  {
   "cell_type": "code",
   "execution_count": 3,
   "metadata": {},
   "outputs": [],
   "source": [
    "from keras.applications.mobilenet import MobileNet"
   ]
  },
  {
   "cell_type": "code",
   "execution_count": 4,
   "metadata": {},
   "outputs": [
    {
     "name": "stdout",
     "output_type": "stream",
     "text": [
      "Size of the train images: (50000, 32, 32, 3)\n",
      "Size of the test images: (10000, 32, 32, 3)\n"
     ]
    }
   ],
   "source": [
    "# Loading the Dataset and getting size of it\n",
    "(x_train, y_train), (x_test, y_test) = keras.datasets.cifar10.load_data()\n",
    "\n",
    "print(\"Size of the train images:\", x_train.shape)\n",
    "print(\"Size of the test images:\", x_test.shape)"
   ]
  },
  {
   "cell_type": "code",
   "execution_count": 5,
   "metadata": {},
   "outputs": [],
   "source": [
    "def preprocess_data(X, Y):\n",
    "        \"\"\" This method has the preprocess to train a model \"\"\"\n",
    "        X = X.astype('float32')\n",
    "        X_p = keras.applications.mobilenet.preprocess_input(X)\n",
    "        Y_p = keras.utils.to_categorical(Y, 10)\n",
    "        return(X_p, Y_p)\n"
   ]
  },
  {
   "cell_type": "code",
   "execution_count": 6,
   "metadata": {},
   "outputs": [],
   "source": [
    "x_train, y_train = preprocess_data(x_train, y_train)\n",
    "x_test, y_test = preprocess_data(x_test, y_test)"
   ]
  },
  {
   "cell_type": "code",
   "execution_count": 7,
   "metadata": {},
   "outputs": [
    {
     "name": "stdout",
     "output_type": "stream",
     "text": [
      "WARNING:tensorflow:`input_shape` is undefined or non-square, or `rows` is not in [128, 160, 192, 224]. Weights for input shape (224, 224) will be loaded as the default.\n"
     ]
    },
    {
     "name": "stderr",
     "output_type": "stream",
     "text": [
      "2024-03-20 18:41:29.532291: I metal_plugin/src/device/metal_device.cc:1154] Metal device set to: Apple M1 Pro\n",
      "2024-03-20 18:41:29.532315: I metal_plugin/src/device/metal_device.cc:296] systemMemory: 16.00 GB\n",
      "2024-03-20 18:41:29.532321: I metal_plugin/src/device/metal_device.cc:313] maxCacheSize: 5.33 GB\n",
      "2024-03-20 18:41:29.532365: I tensorflow/core/common_runtime/pluggable_device/pluggable_device_factory.cc:306] Could not identify NUMA node of platform GPU ID 0, defaulting to 0. Your kernel may not have been built with NUMA support.\n",
      "2024-03-20 18:41:29.532382: I tensorflow/core/common_runtime/pluggable_device/pluggable_device_factory.cc:272] Created TensorFlow device (/job:localhost/replica:0/task:0/device:GPU:0 with 0 MB memory) -> physical PluggableDevice (device: 0, name: METAL, pci bus id: <undefined>)\n"
     ]
    },
    {
     "name": "stdout",
     "output_type": "stream",
     "text": [
      "\n",
      "Epoch 1: LearningRateScheduler setting learning rate to 3.2258064516129034e-05.\n",
      "Epoch 1/10\n"
     ]
    },
    {
     "name": "stderr",
     "output_type": "stream",
     "text": [
      "2024-03-20 18:41:30.885370: W tensorflow/tsl/platform/profile_utils/cpu_utils.cc:128] Failed to get CPU frequency: 0 Hz\n",
      "2024-03-20 18:41:32.019257: I tensorflow/core/grappler/optimizers/custom_graph_optimizer_registry.cc:114] Plugin optimizer for device_type GPU is enabled.\n"
     ]
    },
    {
     "name": "stdout",
     "output_type": "stream",
     "text": [
      "391/391 [==============================] - ETA: 0s - loss: 4.0829 - accuracy: 0.3313"
     ]
    },
    {
     "name": "stderr",
     "output_type": "stream",
     "text": [
      "2024-03-20 18:46:04.718309: I tensorflow/core/grappler/optimizers/custom_graph_optimizer_registry.cc:114] Plugin optimizer for device_type GPU is enabled.\n"
     ]
    },
    {
     "name": "stdout",
     "output_type": "stream",
     "text": [
      "391/391 [==============================] - 287s 721ms/step - loss: 4.0829 - accuracy: 0.3313 - val_loss: 0.8708 - val_accuracy: 0.7488 - lr: 3.2258e-05\n",
      "\n",
      "Epoch 2: LearningRateScheduler setting learning rate to 3.2258064516129034e-05.\n",
      "Epoch 2/10\n",
      "391/391 [==============================] - 280s 717ms/step - loss: 3.0212 - accuracy: 0.6253 - val_loss: 0.8243 - val_accuracy: 0.8626 - lr: 3.2258e-05\n",
      "\n",
      "Epoch 3: LearningRateScheduler setting learning rate to 3.2258064516129034e-05.\n",
      "Epoch 3/10\n",
      "391/391 [==============================] - 476s 1s/step - loss: 2.1345 - accuracy: 0.7736 - val_loss: 0.8488 - val_accuracy: 0.8959 - lr: 3.2258e-05\n",
      "\n",
      "Epoch 4: LearningRateScheduler setting learning rate to 3.2258064516129034e-05.\n",
      "Epoch 4/10\n",
      "391/391 [==============================] - 286s 726ms/step - loss: 1.5543 - accuracy: 0.8428 - val_loss: 0.7882 - val_accuracy: 0.9158 - lr: 3.2258e-05\n",
      "\n",
      "Epoch 5: LearningRateScheduler setting learning rate to 3.2258064516129034e-05.\n",
      "Epoch 5/10\n",
      "391/391 [==============================] - 280s 717ms/step - loss: 1.1858 - accuracy: 0.8845 - val_loss: 0.8180 - val_accuracy: 0.9221 - lr: 3.2258e-05\n",
      "\n",
      "Epoch 6: LearningRateScheduler setting learning rate to 3.2258064516129034e-05.\n",
      "Epoch 6/10\n",
      "391/391 [==============================] - 281s 719ms/step - loss: 0.9132 - accuracy: 0.9101 - val_loss: 0.8472 - val_accuracy: 0.9276 - lr: 3.2258e-05\n",
      "\n",
      "Epoch 7: LearningRateScheduler setting learning rate to 3.2258064516129034e-05.\n",
      "Epoch 7/10\n",
      "391/391 [==============================] - 341s 873ms/step - loss: 0.7773 - accuracy: 0.9272 - val_loss: 0.9143 - val_accuracy: 0.9273 - lr: 3.2258e-05\n",
      "\n",
      "Epoch 8: LearningRateScheduler setting learning rate to 3.2258064516129034e-05.\n",
      "Epoch 8/10\n",
      "391/391 [==============================] - 281s 719ms/step - loss: 0.6545 - accuracy: 0.9395 - val_loss: 1.2671 - val_accuracy: 0.9213 - lr: 3.2258e-05\n",
      "\n",
      "Epoch 9: LearningRateScheduler setting learning rate to 3.2258064516129034e-05.\n",
      "Epoch 9/10\n",
      "391/391 [==============================] - 281s 719ms/step - loss: 0.4912 - accuracy: 0.9523 - val_loss: 1.0965 - val_accuracy: 0.9297 - lr: 3.2258e-05\n",
      "\n",
      "Epoch 10: LearningRateScheduler setting learning rate to 3.2258064516129034e-05.\n",
      "Epoch 10/10\n",
      "391/391 [==============================] - 284s 726ms/step - loss: 0.3998 - accuracy: 0.9617 - val_loss: 1.2008 - val_accuracy: 0.9311 - lr: 3.2258e-05\n"
     ]
    }
   ],
   "source": [
    "if __name__ == \"__main__\":\n",
    "    \n",
    "    base_model = keras.applications.mobilenet.MobileNet(weights='imagenet',include_top=False)\n",
    "    \n",
    "    image_size = (224, 224)\n",
    "    \n",
    "    model = keras.Sequential()\n",
    "    model.add(keras.layers.Resizing(image_size[0], image_size[1], interpolation=\"bilinear\", input_shape=x_train.shape[1:]))\n",
    "    model.add(base_model)\n",
    "    model.add(keras.layers.GlobalAveragePooling2D())\n",
    "    model.add(keras.layers.Dense(1024, activation='relu'))\n",
    "    model.add(keras.layers.Dense(512, activation='relu'))\n",
    "    model.add(keras.layers.Dense(256, activation='relu'))\n",
    "    model.add(keras.layers.Dropout(0.5))\n",
    "    model.add(keras.layers.Dense(128, activation='relu'))\n",
    "    model.add(keras.layers.Dropout(0.5))\n",
    "    model.add(keras.layers.Dense(10, activation='softmax'))\n",
    "    \n",
    "    callback = []\n",
    "    \n",
    "    def decay(epoch):\n",
    "        \"\"\" This method create the alpha\"\"\"\n",
    "        return 0.001 / (1 + 1 * 30)\n",
    "    \n",
    "    callback += [keras.callbacks.LearningRateScheduler(decay, verbose=1)]\n",
    "    callback += [keras.callbacks.ModelCheckpoint('mobilenet_cifar10.h5',\n",
    "                                             save_best_only=True,\n",
    "                                             mode='min'\n",
    "                                             )]\n",
    "    \n",
    "    model.compile(optimizer='adam', loss='categorical_crossentropy', metrics=['accuracy'])\n",
    "    model.fit(x=x_train, y=y_train,\n",
    "               batch_size=128,\n",
    "               validation_data=(x_test, y_test),\n",
    "               epochs=10, shuffle=True,\n",
    "               callbacks=callback,\n",
    "               verbose=1\n",
    "               )"
   ]
  },
  {
   "cell_type": "code",
   "execution_count": 8,
   "metadata": {},
   "outputs": [],
   "source": [
    "from keras.models import load_model\n",
    "\n",
    "model = load_model('mobilenet_cifar10.h5')"
   ]
  },
  {
   "cell_type": "code",
   "execution_count": 9,
   "metadata": {},
   "outputs": [
    {
     "name": "stderr",
     "output_type": "stream",
     "text": [
      "2024-03-20 19:32:51.532924: I tensorflow/core/grappler/optimizers/custom_graph_optimizer_registry.cc:114] Plugin optimizer for device_type GPU is enabled.\n"
     ]
    },
    {
     "name": "stdout",
     "output_type": "stream",
     "text": [
      "313/313 [==============================] - 15s 46ms/step\n",
      "Confusion Matrix:\n",
      "[[947   3  10   5   3   0   1   4  20   7]\n",
      " [  2 964   0   0   0   0   1   1   3  29]\n",
      " [ 28   0 876  24  31  10  19   8   4   0]\n",
      " [  9   2  14 824  16  78  32  10   7   8]\n",
      " [  0   0  12  16 922   7  15  27   1   0]\n",
      " [  2   0  19  90  17 835  12  24   1   0]\n",
      " [  7   1  13  18   4   7 944   4   2   0]\n",
      " [  9   0   8   7  18   9   2 946   0   1]\n",
      " [ 27   5   4   2   1   0   2   2 948   9]\n",
      " [ 12  26   0   2   0   1   1   0   6 952]]\n",
      "\n",
      "Classification Report:\n",
      "              precision    recall  f1-score   support\n",
      "\n",
      "           0       0.91      0.95      0.93      1000\n",
      "           1       0.96      0.96      0.96      1000\n",
      "           2       0.92      0.88      0.90      1000\n",
      "           3       0.83      0.82      0.83      1000\n",
      "           4       0.91      0.92      0.92      1000\n",
      "           5       0.88      0.83      0.86      1000\n",
      "           6       0.92      0.94      0.93      1000\n",
      "           7       0.92      0.95      0.93      1000\n",
      "           8       0.96      0.95      0.95      1000\n",
      "           9       0.95      0.95      0.95      1000\n",
      "\n",
      "    accuracy                           0.92     10000\n",
      "   macro avg       0.92      0.92      0.92     10000\n",
      "weighted avg       0.92      0.92      0.92     10000\n",
      "\n"
     ]
    }
   ],
   "source": [
    "import numpy as np\n",
    "from sklearn.metrics import classification_report, confusion_matrix\n",
    "\n",
    "predictions = model.predict(x_test)\n",
    "predicted_labels = np.argmax(predictions, axis=1)\n",
    "\n",
    "# Calculating metrics\n",
    "print(\"Confusion Matrix:\")\n",
    "conf_matrix = confusion_matrix(np.argmax(y_test, axis=1), predicted_labels)\n",
    "print(conf_matrix)\n",
    "\n",
    "print(\"\\nClassification Report:\")\n",
    "print(classification_report(np.argmax(y_test, axis=1), predicted_labels))\n"
   ]
  },
  {
   "cell_type": "code",
   "execution_count": null,
   "metadata": {},
   "outputs": [],
   "source": [
    "if __name__ == \"__main__\":\n",
    "    \n",
    "    base_model = keras.applications.mobilenet.MobileNet(weights='imagenet',include_top=False)\n",
    "    \n",
    "    image_size = (224, 224)\n",
    "    \n",
    "    model= keras.Sequential()\n",
    "    model.add(keras.layers.GlobalAveragePooling2D())\n",
    "    model.add(base_model)\n",
    "    model.add(keras.layers.Flatten())\n",
    "    model.add(keras.layers.Dense(512, activation=('relu'))) \n",
    "    model.add(keras.layers.Dropout(0.2))\n",
    "    model.add(keras.layers.Dense(256, activation=('relu')))\n",
    "    model.add(keras.layers.Dropout(0.2))\n",
    "    model.add(keras.layers.Dense(10, activation=('softmax')))\n",
    "    \n",
    "    callback = []\n",
    "    \n",
    "    def decay(epoch):\n",
    "        \"\"\" This method create the alpha\"\"\"\n",
    "        return 0.001 / (1 + 1 * 30)\n",
    "    \n",
    "    callback += [keras.callbacks.LearningRateScheduler(decay, verbose=1)]\n",
    "    callback += [keras.callbacks.ModelCheckpoint('mobilenet_cifar10.h5',\n",
    "                                             save_best_only=True,\n",
    "                                             mode='min'\n",
    "                                             )]\n",
    "    \n",
    "    model.compile(optimizer='adam', loss='categorical_crossentropy', metrics=['accuracy'])\n",
    "    model.fit(x=x_train, y=y_train,\n",
    "               batch_size=128,\n",
    "               validation_data=(x_test, y_test),\n",
    "               epochs=10, shuffle=True,\n",
    "               callbacks=callback,\n",
    "               verbose=1\n",
    "               )"
   ]
  }
 ],
 "metadata": {
  "kernelspec": {
   "display_name": "base",
   "language": "python",
   "name": "python3"
  },
  "language_info": {
   "codemirror_mode": {
    "name": "ipython",
    "version": 3
   },
   "file_extension": ".py",
   "mimetype": "text/x-python",
   "name": "python",
   "nbconvert_exporter": "python",
   "pygments_lexer": "ipython3",
   "version": "3.11.0"
  }
 },
 "nbformat": 4,
 "nbformat_minor": 2
}
